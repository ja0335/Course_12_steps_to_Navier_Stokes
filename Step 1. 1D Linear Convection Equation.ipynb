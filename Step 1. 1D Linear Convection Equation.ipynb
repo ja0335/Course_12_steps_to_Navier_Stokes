{
 "cells": [
  {
   "cell_type": "markdown",
   "metadata": {},
   "source": [
    "#Step 1. 1D Linear Convection Equation"
   ]
  },
  {
   "cell_type": "code",
   "execution_count": 6,
   "metadata": {
    "collapsed": false
   },
   "outputs": [],
   "source": [
    "# Juan Camilo Acosta Arango, ja0335@gmail.com\n",
    "\n",
    "# My steps on the course from Prof. Lorena Barba, \n",
    "# \"CFD Python: 12 steps to Navier-Stokes\" \n",
    "# URL: https://piazza.com/bu/spring2013/me702/resources\n",
    "\n",
    "\n",
    "import matplotlib.pyplot as plt\n",
    "from matplotlib import animation\n",
    "import numpy as np;\n",
    "\n",
    "#SCHEME: FD in time, BW in space\n",
    "\n",
    "# How much we want to advance in time?\n",
    "# at 30 fps if we want simulate 10 seconds => 30*10\n",
    "t_seconds = 30 * 7;\n",
    "\n",
    "# The time step size \n",
    "dt = 0.01;\n",
    "\n",
    "# x velocity\n",
    "c = 0.5;\n",
    "\n",
    "# spatial partitions\n",
    "x_partitions = 200;\n",
    "\n",
    "data = np.linspace(0.0, 2.0, num=x_partitions, retstep=True);\n",
    "\n",
    "x = data[0];\n",
    "dx = data[1];\n",
    "\n",
    "# As we have a truncation of 1st order for the Taylor Series then the error \n",
    "# is dx^2\n",
    "#error = dx**2;\n",
    "#print error;\n",
    "\n",
    "# Here we create the pice wise initial conditions\n",
    "# psi = 1, x in [0, 0.5)\n",
    "# psi = 2, x in [0.5, 1.0]\n",
    "# psi = 1, x in (1.0, 2.0]\n",
    "psi = np.piecewise(x, [(x >= 0.0) & (x < 0.5), (x >= 0.5) & (x <= 1.0), (x > 1.0) & (x <= 2.0)], [1, 2, 1]);\n",
    "\n",
    "fig = plt.figure();\n",
    "fig.suptitle(r'$\\frac{\\partial \\psi}{\\partial t} + c \\frac{\\partial \\psi}{\\partial x} = 0$', fontsize=20, fontweight='bold')\n",
    "ax = plt.axes(xlim=(0, 1.9), ylim=(0, 3))\n",
    "squareWave, = ax.plot([], [], lw=2)\n",
    "\n",
    "def init():\n",
    "    squareWave.set_data([], [])\n",
    "    return squareWave,\n",
    "\n",
    "def update(n): \n",
    "    \n",
    "    if(n == 0):\n",
    "        squareWave.set_data(x, psi);\n",
    "        return squareWave,        \n",
    "    \n",
    "    #store the actual state of the array\n",
    "    psi_n = psi;\n",
    "    \n",
    "    #update the array\n",
    "    for j in range(1, len(x)-1):\n",
    "        psi[j] = psi_n[j] - c *(dt/dx) * (psi_n[j] - psi_n[j-1] );\n",
    "        \n",
    "    squareWave.set_data(x, psi);\n",
    "    return squareWave,\n",
    "\n",
    "# The following lines works only on a machine with ffmpeg configured\n",
    "#anim = animation.FuncAnimation(fig, update, init_func=init, frames=t_seconds, blit=True)\n",
    "#anim.save('animation.mp4', fps=30, writer=\"ffmpeg\", codec=\"libx264\")\n",
    "#plt.close(fig)"
   ]
  },
  {
   "cell_type": "code",
   "execution_count": 5,
   "metadata": {
    "collapsed": false,
    "scrolled": false
   },
   "outputs": [
    {
     "data": {
      "text/html": [
       "\n",
       "<center>\n",
       "<video width=\"640\" height=\"480\" controls>\n",
       "  <source src=\"animation.mp4\" type=\"video/mp4\">\n",
       "</video>\n",
       "</center>\n"
      ],
      "text/plain": [
       "<IPython.core.display.HTML object>"
      ]
     },
     "execution_count": 5,
     "metadata": {},
     "output_type": "execute_result"
    }
   ],
   "source": [
    "from IPython.display import HTML\n",
    "\n",
    "HTML(\"\"\"\n",
    "<center>\n",
    "<video width=\"640\" height=\"480\" controls>\n",
    "  <source src=\"animation.mp4\" type=\"video/mp4\">\n",
    "</video>\n",
    "</center>\n",
    "\"\"\")"
   ]
  }
 ],
 "metadata": {
  "kernelspec": {
   "display_name": "Python 2",
   "language": "python",
   "name": "python2"
  },
  "language_info": {
   "codemirror_mode": {
    "name": "ipython",
    "version": 2
   },
   "file_extension": ".py",
   "mimetype": "text/x-python",
   "name": "python",
   "nbconvert_exporter": "python",
   "pygments_lexer": "ipython2",
   "version": "2.7.8"
  }
 },
 "nbformat": 4,
 "nbformat_minor": 0
}
