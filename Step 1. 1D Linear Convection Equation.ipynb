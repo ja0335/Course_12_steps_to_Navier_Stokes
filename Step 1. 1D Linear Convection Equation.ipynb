{
 "cells": [
  {
   "cell_type": "markdown",
   "metadata": {},
   "source": [
    "# Paso 1. Ecuación Unidimensional de Convección Lineal"
   ]
  },
  {
   "cell_type": "markdown",
   "metadata": {},
   "source": [
    "\\begin{equation}\n",
    "\\frac{\\partial \\psi}{\\partial t} + c \\frac{\\partial \\psi}{\\partial x} = 0\n",
    "\\end{equation}\n",
    "\n",
    "Lo que nos dice esta ecuación es que la derivada de una función con respecto al tiempo es directamente proporcial a la velocidad (donde la constante de proporcionalidad es $-c$).\n",
    "\n",
    "\\begin{equation}\n",
    "\\frac{\\partial \\psi}{\\partial t} = -c \\frac{\\partial \\psi}{\\partial x}\n",
    "\\end{equation}\n",
    "\n",
    "La solución analítica para esta ecuación diferencial es sencilla. Dada la condición inicial:\n",
    "\\begin{equation*}\n",
    "\\psi(x, 0) = f(x)\n",
    "\\end{equation*}\n",
    "\n",
    "Digamos que $\\psi(x, t) = f(x -ct)$ es una solución de la ecuación diferencial. Entonces:\n",
    "\\begin{eqnarray*}\n",
    "\\frac{\\partial f}{\\partial t} &=& -c f(x-ct) \\\\\n",
    "\\frac{\\partial f}{\\partial x} &=& f(x-ct) \\\\\n",
    "\\end{eqnarray*}\n",
    "Reemplazando:\n",
    "\\begin{eqnarray*}\n",
    "-c f(x-ct) + c f(x-ct) = 0\n",
    "\\end{eqnarray*}\n",
    "Con lo cual observamos que es solución. \n",
    "\n",
    "Veamos un ejemplo.\n",
    "Sea $f(x) = cos(x)$, entonces:\n",
    "\\begin{eqnarray*}\n",
    "\\frac{\\partial f}{\\partial t} &=& -c \\sin(x-ct) \\\\\n",
    "\\frac{\\partial f}{\\partial x} &=& - \\sin(x-ct) \\\\\n",
    "\\end{eqnarray*}\n",
    "\n",
    "Reemplazando en la ecuación de convección:\n",
    "\\begin{equation}\n",
    "-c \\sin(x-ct) -c \\sin(x-ct) = 0\n",
    "\\end{equation}\n",
    "\n",
    "Lo que podemos observar es que al ser la solución la propia condición inicial con parámetro $x-ct$, lo único que se esta haciendo es un corrimiento en el espacio del perfil inicial de la función a lo largo del tiempo."
   ]
  },
  {
   "cell_type": "markdown",
   "metadata": {},
   "source": [
    "#Discretización, diferencias finitas\n"
   ]
  },
  {
   "cell_type": "markdown",
   "metadata": {},
   "source": [
    "Para la discretización de este problema utilizaremos el equema numérico FT-BS, (Forward in Time, Backward in space). Como estandar diremos que el subindice $i$ corresponde a la posición en el espacio y $n$ para el subindice en el tiempo. Unilizando esta notación, tenemos para la ecuación diferencial su correspondiente discretización.\n",
    "\n",
    "$$\n",
    "\\frac{\\partial \\psi}{\\partial t} + c \\frac{\\partial \\psi}{\\partial x} = 0 \\\\\n",
    "\\frac{\\psi(i)_{n+1} - \\psi(i)_n }{\\Delta t} +c \\frac{\\psi(i)_n - \\psi(i-1)_n}{\\Delta x} = 0\n",
    "$$\n",
    "\n",
    "Analizando la discretización podemos observar que tenemos todas las variables, $\\psi(i)_n$ y $\\psi(i-1)_n$ estan dadas por la condición inicial, $\\Delta t$ y $\\Delta x$ son el tamaño de paso que elijamos, por lo tanto solo nos resta el término desconocido $\\psi(i)_{n+1}$, el cual podemos hayar resolviendo la ecuación discretizada. Así tenemos:\n",
    "\n",
    "$$\n",
    "\\psi(i)_{n+1} = \\psi(i)_n - c \\frac{\\Delta t}{\\Delta x} \\Big[\\psi(i)_n - \\psi(i-1)_n\\Big]\n",
    "$$\n",
    "\n",
    "Con la expresión anterior podemos hayar el comportamiento del profile inicial en el tiempo."
   ]
  },
  {
   "cell_type": "code",
   "execution_count": 1,
   "metadata": {
    "collapsed": false
   },
   "outputs": [],
   "source": [
    "import matplotlib.pyplot as plt\n",
    "from matplotlib import animation\n",
    "import numpy as np;\n",
    "\n",
    "# How much we want to advance in time?\n",
    "# at 30 fps if we want simulate 10 seconds => 30*10\n",
    "t_seconds = 30 * 7;\n",
    "\n",
    "# The time step size \n",
    "dt = 0.005;\n",
    "\n",
    "# x velocity\n",
    "c = 10.0;\n",
    "\n",
    "# spatial partitions\n",
    "x_partitions = 100;\n",
    "\n",
    "data = np.linspace(-2.0, 8.0, num=x_partitions, retstep=True);\n",
    "\n",
    "x  = data[0];\n",
    "dx = data[1];\n",
    "\n",
    "# Set initial profile\n",
    "miu = 0;\n",
    "sigmaSqrt = 0.2;\n",
    "\n",
    "u = (1.0 / np.sqrt(2*np.pi*sigmaSqrt)) * np.exp( -(x-miu)**2/(2*sigmaSqrt) );\n",
    "\n",
    "fig = plt.figure();\n",
    "fig.suptitle(r'$\\frac{\\partial u}{\\partial t} + c \\frac{\\partial u}{\\partial x} = 0$', fontsize=20, fontweight='bold');\n",
    "ax = plt.axes(xlim=(-2.0, 8.0), ylim=(-0.25, 1.0));\n",
    "profile, = ax.plot([], [], lw=2);\n",
    "\n",
    "def init():\n",
    "    profile.set_data([], []);\n",
    "    return profile,\n",
    "\n",
    "def update(n): \n",
    "    \n",
    "    if(n == 0):\n",
    "        profile.set_data(x, u);\n",
    "        return profile,        \n",
    "    \n",
    "    #store the actual state of the array\n",
    "    u_n = u;\n",
    "    \n",
    "    #update array\n",
    "    u[1:] = u_n[1:] - (c*(dt/dx)) * (u_n[1:] - np.roll(u_n, 1)[1:]);\n",
    "                    \n",
    "    profile.set_data(x, u);\n",
    "\n",
    "    return profile,\n",
    "\n",
    "# The following lines works only on a machine with ffmpeg configured\n",
    "anim = animation.FuncAnimation(fig, update, init_func=init, frames=t_seconds, blit=True);\n",
    "anim.save('1D_Linear_Convection_Equation_01.mp4', fps=30, writer=\"ffmpeg\", codec=\"libx264\");\n",
    "# plt.show(fig);\n",
    "plt.close(fig);"
   ]
  },
  {
   "cell_type": "code",
   "execution_count": null,
   "metadata": {
    "collapsed": false
   },
   "outputs": [],
   "source": [
    "# You must have configured ffmpeg in your machine to run the code below\n",
    "from IPython.display import HTML\n",
    "video = open(\"1D_Linear_Convection_Equation_01.mp4\", \"rb\").read()\n",
    "video_encoded = video.encode(\"base64\")\n",
    "video_tag = '<video controls alt=\"test\" src=\"data:video/x-m4v;base64,{0}\">'.format(video_encoded)\n",
    "HTML(video_tag)"
   ]
  },
  {
   "cell_type": "markdown",
   "metadata": {},
   "source": [
    "Como se observa en la simulación, el profile inicial tiene un decaimiento que podria mal interpretarse como una viscosidad, esto es debido al error numérico que introducen los cálculos de la computadora, generando así la viscocidad artificial"
   ]
  }
 ],
 "metadata": {
  "kernelspec": {
   "display_name": "Python 2",
   "language": "python",
   "name": "python2"
  },
  "language_info": {
   "codemirror_mode": {
    "name": "ipython",
    "version": 2
   },
   "file_extension": ".py",
   "mimetype": "text/x-python",
   "name": "python",
   "nbconvert_exporter": "python",
   "pygments_lexer": "ipython2",
   "version": "2.7.8"
  }
 },
 "nbformat": 4,
 "nbformat_minor": 0
}
