{
 "cells": [
  {
   "cell_type": "markdown",
   "metadata": {},
   "source": [
    "# Paso 11. Navier-Stokes, flujo en una cavidad.\n",
    "\n",
    "Recordemos la forma no dimensional de las ecuaciones de Navier-Stokes.\n",
    "\n",
    "$$\n",
    "\\frac{D\\vec{V}}{Dt} = -\\frac{1}{\\rho} \\nabla P + \\mu \\nabla^2 \\vec{V} + G\n",
    "$$\n",
    "Donde $\\vec{V} = \\Big( v_1(x,y), v_12(x,y), ... , v_n(x,y) \\Big)$\n",
    "\n",
    "En este problema tomamremos $G = 0$ y nos limitamres al caso $\\mathbb{R}^2$\n",
    "\n",
    "$$\n",
    "\\frac{\\partial u}{\\partial t} + u\\frac{\\partial u}{\\partial x} + v\\frac{\\partial u}{\\partial y} = \n",
    "-\\frac{1}{\\rho}\\frac{\\partial p}{\\partial x} + \\nu \\Bigg( \\frac{\\partial^2 u}{\\partial x^2} + \\frac{\\partial^2 u}{\\partial y^2} \\Bigg)\n",
    "$$\n",
    "\n",
    "$$\n",
    "\\frac{\\partial v}{\\partial t} + u\\frac{\\partial v}{\\partial x} + v\\frac{\\partial v}{\\partial y} = \n",
    "-\\frac{1}{\\rho}\\frac{\\partial p}{\\partial y} + \\nu \\Bigg( \\frac{\\partial^2 v}{\\partial x^2} + \\frac{\\partial^2 v}{\\partial y^2} \\Bigg)\n",
    "$$\n",
    "\n",
    "$$\n",
    "\\frac{\\partial^2 p}{\\partial x^2} + \\frac{\\partial^2 p}{\\partial y^2} = \n",
    "-\\rho\\left(\n",
    " \\frac{\\partial u}{\\partial x}\\frac{\\partial u}{\\partial x}+\n",
    "2\\frac{\\partial u}{\\partial y}\\frac{\\partial v}{\\partial x}+\n",
    " \\frac{\\partial v}{\\partial y}\\frac{\\partial v}{\\partial y}-\n",
    "\\right)\n",
    "$$"
   ]
  },
  {
   "cell_type": "markdown",
   "metadata": {},
   "source": [
    "#### Discretización\n",
    "\n",
    "Para el eje x:\n",
    "$$\n",
    "\\frac{u(i,j)_{n+1} - u(i,j)_n}{\\Delta t} + \n",
    "u(i,j)_n\\frac{u(i,j)_n - u(i-1,j)_n}{\\Delta x} +\n",
    "v(i,j)_n\\frac{u(i,j)_n - u(i-1,j)_n}{\\Delta y} =\\\\\n",
    "-\\frac{1}{\\rho} \\frac{p(i,j)_{n+1} - p(i,j)_{n-1}}{2\\Delta x} + \n",
    "\\nu \\Bigg( \n",
    "\\frac{u(i+1,j)_n - 2u(i,j)_n + u(i-1,j)_n}{\\Delta x^2} +\n",
    "\\frac{u(i,j+1)_n - 2u(i,j)_n + u(i,j-1)_n}{\\Delta y^2}\n",
    "\\Bigg)\n",
    "$$\n",
    "\n",
    "Para el eje y:\n",
    "$$\n",
    "\\frac{v(i,j)_{n+1} - v(i,j)_n}{\\Delta t} + \n",
    "u(i,j)_n\\frac{v(i,j)_n - v(i-1,j)_n}{\\Delta x} +\n",
    "v(i,j)_n\\frac{v(i,j)_n - v(i-1,j)_n}{\\Delta y} =\\\\\n",
    "-\\frac{1}{\\rho} \\frac{p(i,j)_{n+1} - p(i,j)_{n-1}}{2\\Delta x} + \n",
    "\\nu \\Bigg( \n",
    "\\frac{v(i+1,j)_n - 2v(i,j)_n + v(i-1,j)_n}{\\Delta x^2} +\n",
    "\\frac{v(i,j+1)_n - 2v(i,j)_n + v(i,j-1)_n}{\\Delta y^2}\n",
    "\\Bigg)\n",
    "$$\n",
    "\n",
    "Para la ecuación de la presión:\n",
    "$$\n",
    "\\frac{p(i+1,j)_n - 2p(i,j)_n + p(i-1,j)_n}{\\Delta x^2} + \\frac{p(i,j+1)_n - 2p(i,j)_n + p(i,j-1)_n}{\\Delta y^2} = \\\\\n",
    "-\\rho \\Bigg(\n",
    " \\frac{u(i+1,j)_n - u(i-1,j)_n}{2\\Delta x}\\frac{u(i+1,j)_n - u(i-1,j)_n}{2\\Delta x} + \n",
    "2\\frac{u(i,j+1)_n - u(i,j-1)_n}{2\\Delta y}\\frac{v(i+1,j)_n - v(i-1,j)_n}{2\\Delta x} + \n",
    " \\frac{v(i,j+1)_n - v(i,j-1)_n}{2\\Delta y}\\frac{u(i,j+1)_n - u(i,j-1)_n}{2\\Delta y} + \n",
    "\\Bigg)\n",
    "$$"
   ]
  }
 ],
 "metadata": {
  "kernelspec": {
   "display_name": "Python 2",
   "language": "python",
   "name": "python2"
  },
  "language_info": {
   "codemirror_mode": {
    "name": "ipython",
    "version": 2
   },
   "file_extension": ".py",
   "mimetype": "text/x-python",
   "name": "python",
   "nbconvert_exporter": "python",
   "pygments_lexer": "ipython2",
   "version": "2.7.7"
  }
 },
 "nbformat": 4,
 "nbformat_minor": 0
}
