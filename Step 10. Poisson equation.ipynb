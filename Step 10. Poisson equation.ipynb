{
 "cells": [
  {
   "cell_type": "markdown",
   "metadata": {},
   "source": [
    "# Paso 10. Ecuación de Poisson bidimensional\n",
    "\n",
    "$$\n",
    "\\frac{\\partial^2 p}{\\partial x^2} + \\frac{\\partial^2 p}{\\partial y^2} = b\n",
    "$$"
   ]
  },
  {
   "cell_type": "markdown",
   "metadata": {},
   "source": [
    "#### Discretización\n",
    "$$\n",
    "\\frac{p(i+1,j)_n - 2p(i,j)_n + p(i-1,j)_n}{\\Delta x^2} + \\frac{p(i,j+1)_n - 2p(i,j)_n + p(i,j-1)_n}{\\Delta y^2} = b\n",
    "$$"
   ]
  },
  {
   "cell_type": "markdown",
   "metadata": {},
   "source": [
    "De manera similar que en la ecuación de Laplace, solucionando para $p(i,j)_n$, se obtiene\n",
    "\n",
    "$$\n",
    "p(i,j)_n = \\frac{ \\Big[ p(i+1,j)_n + p(i-1,j)_n \\Big] \\Delta y^2 + \\Big[ p(i,j+1)_n + p(i,j-1)_n \\Big] \\Delta x^2 - b(i,j)_n \\Delta x^2 \\Delta y^2 } {2(\\Delta x^2 + \\Delta y^2)}\n",
    "$$"
   ]
  }
 ],
 "metadata": {
  "kernelspec": {
   "display_name": "Python 2",
   "language": "python",
   "name": "python2"
  },
  "language_info": {
   "codemirror_mode": {
    "name": "ipython",
    "version": 2
   },
   "file_extension": ".py",
   "mimetype": "text/x-python",
   "name": "python",
   "nbconvert_exporter": "python",
   "pygments_lexer": "ipython2",
   "version": "2.7.8"
  }
 },
 "nbformat": 4,
 "nbformat_minor": 0
}
