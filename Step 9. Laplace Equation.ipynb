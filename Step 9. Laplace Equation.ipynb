{
 "cells": [
  {
   "cell_type": "markdown",
   "metadata": {},
   "source": [
    "# Paso 9. Ecuación de Laplace para la presión\n",
    "\n",
    "$$\n",
    "\\frac{\\partial^2 p}{\\partial x^2} + \\frac{\\partial^2 p}{\\partial y^2} = 0\n",
    "$$\n",
    "\n",
    "#### Discretización\n",
    "\n",
    "$$\n",
    "\\frac{p(i+1, j)_n - 2p(i, j)_n + p(i-1, j)_n}{\\Delta x^2} + \\frac{p(i, j+1)_n - 2p(i, j)_n + p(i, j-1)_n}{\\Delta x^2} = 0\n",
    "$$\n"
   ]
  },
  {
   "cell_type": "markdown",
   "metadata": {},
   "source": [
    "$$\n",
    "\\frac{p(i+1, j)_n - 2p(i, j)_n + p(i-1, j)_n}{\\Delta x^2} + \\frac{p(i, j+1)_n - 2p(i, j)_n + p(i, j-1)_n}{\\Delta x^2} = 0\n",
    "$$"
   ]
  },
  {
   "cell_type": "code",
   "execution_count": null,
   "metadata": {
    "collapsed": true
   },
   "outputs": [],
   "source": []
  }
 ],
 "metadata": {
  "kernelspec": {
   "display_name": "Python 2",
   "language": "python",
   "name": "python2"
  },
  "language_info": {
   "codemirror_mode": {
    "name": "ipython",
    "version": 2
   },
   "file_extension": ".py",
   "mimetype": "text/x-python",
   "name": "python",
   "nbconvert_exporter": "python",
   "pygments_lexer": "ipython2",
   "version": "2.7.8"
  }
 },
 "nbformat": 4,
 "nbformat_minor": 0
}
